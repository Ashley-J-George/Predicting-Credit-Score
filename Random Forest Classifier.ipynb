{
  "nbformat": 4,
  "nbformat_minor": 0,
  "metadata": {
    "colab": {
      "name": "Sample.ipynb",
      "provenance": []
    },
    "kernelspec": {
      "name": "python3",
      "display_name": "Python 3"
    }
  },
  "cells": [
    {
      "cell_type": "markdown",
      "metadata": {
        "id": "mwNstk4EyTep"
      },
      "source": [
        "##**Mounting Drive**"
      ]
    },
    {
      "cell_type": "code",
      "metadata": {
        "colab": {
          "base_uri": "https://localhost:8080/"
        },
        "id": "gDSnHTpGnMwy",
        "outputId": "c8d9c6ee-c610-43c6-ceee-1fb32ca6e578"
      },
      "source": [
        "from google.colab import drive\r\n",
        "import os\r\n",
        "drive.mount('/content/drive', force_remount=True)\r\n",
        "os.chdir('/content/drive/MyDrive/Personal_Projects')"
      ],
      "execution_count": null,
      "outputs": [
        {
          "output_type": "stream",
          "text": [
            "Mounted at /content/drive\n"
          ],
          "name": "stdout"
        }
      ]
    },
    {
      "cell_type": "markdown",
      "metadata": {
        "id": "LXCNxMZfy1NR"
      },
      "source": [
        "##**Random Forest Classifier**"
      ]
    },
    {
      "cell_type": "code",
      "metadata": {
        "id": "RpAfRp1Vy6Bd"
      },
      "source": [
        "import pandas as pd\r\n",
        "import numpy as np\r\n",
        "from sklearn.ensemble import RandomForestClassifier \r\n",
        "from sklearn.metrics import classification_report, confusion_matrix, accuracy_score, average_precision_score\r\n",
        "from sklearn.preprocessing import StandardScaler, LabelEncoder\r\n",
        "from sklearn.model_selection import train_test_split "
      ],
      "execution_count": null,
      "outputs": []
    },
    {
      "cell_type": "markdown",
      "metadata": {
        "id": "FzrB_uko65LW"
      },
      "source": [
        "**Pre-Processing**"
      ]
    },
    {
      "cell_type": "code",
      "metadata": {
        "colab": {
          "base_uri": "https://localhost:8080/",
          "height": 204
        },
        "id": "igqOXVl665Lb",
        "outputId": "3f7b0a58-490e-43e2-ea64-313126d01724"
      },
      "source": [
        "data = pd.read_csv(\"Credit_Scoring.csv\")\r\n",
        "data.head()"
      ],
      "execution_count": null,
      "outputs": [
        {
          "output_type": "execute_result",
          "data": {
            "text/html": [
              "<div>\n",
              "<style scoped>\n",
              "    .dataframe tbody tr th:only-of-type {\n",
              "        vertical-align: middle;\n",
              "    }\n",
              "\n",
              "    .dataframe tbody tr th {\n",
              "        vertical-align: top;\n",
              "    }\n",
              "\n",
              "    .dataframe thead th {\n",
              "        text-align: right;\n",
              "    }\n",
              "</style>\n",
              "<table border=\"1\" class=\"dataframe\">\n",
              "  <thead>\n",
              "    <tr style=\"text-align: right;\">\n",
              "      <th></th>\n",
              "      <th>Status</th>\n",
              "      <th>Seniority</th>\n",
              "      <th>Home</th>\n",
              "      <th>Time</th>\n",
              "      <th>Age</th>\n",
              "      <th>Marital</th>\n",
              "      <th>Records</th>\n",
              "      <th>Job</th>\n",
              "      <th>Expenses</th>\n",
              "      <th>Income</th>\n",
              "      <th>Assets</th>\n",
              "      <th>Debt</th>\n",
              "      <th>Amount</th>\n",
              "      <th>Price</th>\n",
              "      <th>Finrat</th>\n",
              "      <th>Savings</th>\n",
              "    </tr>\n",
              "  </thead>\n",
              "  <tbody>\n",
              "    <tr>\n",
              "      <th>0</th>\n",
              "      <td>good</td>\n",
              "      <td>9</td>\n",
              "      <td>rent</td>\n",
              "      <td>60</td>\n",
              "      <td>30</td>\n",
              "      <td>married</td>\n",
              "      <td>no_rec</td>\n",
              "      <td>freelance</td>\n",
              "      <td>73</td>\n",
              "      <td>129</td>\n",
              "      <td>0</td>\n",
              "      <td>0</td>\n",
              "      <td>800</td>\n",
              "      <td>846</td>\n",
              "      <td>94.562648</td>\n",
              "      <td>4.200000</td>\n",
              "    </tr>\n",
              "    <tr>\n",
              "      <th>1</th>\n",
              "      <td>good</td>\n",
              "      <td>17</td>\n",
              "      <td>rent</td>\n",
              "      <td>60</td>\n",
              "      <td>58</td>\n",
              "      <td>widow</td>\n",
              "      <td>no_rec</td>\n",
              "      <td>fixed</td>\n",
              "      <td>48</td>\n",
              "      <td>131</td>\n",
              "      <td>0</td>\n",
              "      <td>0</td>\n",
              "      <td>1000</td>\n",
              "      <td>1658</td>\n",
              "      <td>60.313631</td>\n",
              "      <td>4.980000</td>\n",
              "    </tr>\n",
              "    <tr>\n",
              "      <th>2</th>\n",
              "      <td>bad</td>\n",
              "      <td>10</td>\n",
              "      <td>owner</td>\n",
              "      <td>36</td>\n",
              "      <td>46</td>\n",
              "      <td>married</td>\n",
              "      <td>yes_rec</td>\n",
              "      <td>freelance</td>\n",
              "      <td>90</td>\n",
              "      <td>200</td>\n",
              "      <td>3000</td>\n",
              "      <td>0</td>\n",
              "      <td>2000</td>\n",
              "      <td>2985</td>\n",
              "      <td>67.001675</td>\n",
              "      <td>1.980000</td>\n",
              "    </tr>\n",
              "    <tr>\n",
              "      <th>3</th>\n",
              "      <td>good</td>\n",
              "      <td>0</td>\n",
              "      <td>rent</td>\n",
              "      <td>60</td>\n",
              "      <td>24</td>\n",
              "      <td>single</td>\n",
              "      <td>no_rec</td>\n",
              "      <td>fixed</td>\n",
              "      <td>63</td>\n",
              "      <td>182</td>\n",
              "      <td>2500</td>\n",
              "      <td>0</td>\n",
              "      <td>900</td>\n",
              "      <td>1325</td>\n",
              "      <td>67.924528</td>\n",
              "      <td>7.933333</td>\n",
              "    </tr>\n",
              "    <tr>\n",
              "      <th>4</th>\n",
              "      <td>good</td>\n",
              "      <td>0</td>\n",
              "      <td>rent</td>\n",
              "      <td>36</td>\n",
              "      <td>26</td>\n",
              "      <td>single</td>\n",
              "      <td>no_rec</td>\n",
              "      <td>fixed</td>\n",
              "      <td>46</td>\n",
              "      <td>107</td>\n",
              "      <td>0</td>\n",
              "      <td>0</td>\n",
              "      <td>310</td>\n",
              "      <td>910</td>\n",
              "      <td>34.065934</td>\n",
              "      <td>7.083871</td>\n",
              "    </tr>\n",
              "  </tbody>\n",
              "</table>\n",
              "</div>"
            ],
            "text/plain": [
              "  Status  Seniority   Home  Time  Age  ... Debt Amount Price     Finrat   Savings\n",
              "0   good          9   rent    60   30  ...    0    800   846  94.562648  4.200000\n",
              "1   good         17   rent    60   58  ...    0   1000  1658  60.313631  4.980000\n",
              "2    bad         10  owner    36   46  ...    0   2000  2985  67.001675  1.980000\n",
              "3   good          0   rent    60   24  ...    0    900  1325  67.924528  7.933333\n",
              "4   good          0   rent    36   26  ...    0    310   910  34.065934  7.083871\n",
              "\n",
              "[5 rows x 16 columns]"
            ]
          },
          "metadata": {
            "tags": []
          },
          "execution_count": 5
        }
      ]
    },
    {
      "cell_type": "code",
      "metadata": {
        "colab": {
          "base_uri": "https://localhost:8080/"
        },
        "id": "DmzWJ10H65Ld",
        "outputId": "82fa13f7-ab1f-4894-c5fb-c2618d0e9595"
      },
      "source": [
        "data.shape"
      ],
      "execution_count": null,
      "outputs": [
        {
          "output_type": "execute_result",
          "data": {
            "text/plain": [
              "(4446, 16)"
            ]
          },
          "metadata": {
            "tags": []
          },
          "execution_count": 6
        }
      ]
    },
    {
      "cell_type": "code",
      "metadata": {
        "colab": {
          "base_uri": "https://localhost:8080/"
        },
        "id": "1gzm98Df65Le",
        "outputId": "35cf2a78-c7cb-49da-be35-6a103c707247"
      },
      "source": [
        "# Checking if any Missing Values are there in the Dataset\r\n",
        "data.isnull().any()"
      ],
      "execution_count": null,
      "outputs": [
        {
          "output_type": "execute_result",
          "data": {
            "text/plain": [
              "Status       False\n",
              "Seniority    False\n",
              "Home         False\n",
              "Time         False\n",
              "Age          False\n",
              "Marital      False\n",
              "Records      False\n",
              "Job          False\n",
              "Expenses     False\n",
              "Income       False\n",
              "Assets       False\n",
              "Debt         False\n",
              "Amount       False\n",
              "Price        False\n",
              "Finrat       False\n",
              "Savings      False\n",
              "dtype: bool"
            ]
          },
          "metadata": {
            "tags": []
          },
          "execution_count": 7
        }
      ]
    },
    {
      "cell_type": "code",
      "metadata": {
        "colab": {
          "base_uri": "https://localhost:8080/"
        },
        "id": "HZI4nJfJ65Lf",
        "outputId": "98dd0b1f-3e21-486e-9e59-b2e4c47e8d93"
      },
      "source": [
        "# Checking if any categorical Features are there in the Dataset\r\n",
        "categorical_data = data.select_dtypes(exclude=[np.number])\r\n",
        "print (\"There are {} categorical Columns in Dataset\".format(categorical_data.shape[1]))"
      ],
      "execution_count": null,
      "outputs": [
        {
          "output_type": "stream",
          "text": [
            "There are 5 categorical Columns in Dataset\n"
          ],
          "name": "stdout"
        }
      ]
    },
    {
      "cell_type": "code",
      "metadata": {
        "colab": {
          "base_uri": "https://localhost:8080/"
        },
        "id": "2O1KX5Ap65Lf",
        "outputId": "1d776297-81c9-4f97-d381-e356059f28f3"
      },
      "source": [
        "# Name of all the Categorical Features Present in the Dataset\r\n",
        "categorical_data.any()"
      ],
      "execution_count": null,
      "outputs": [
        {
          "output_type": "execute_result",
          "data": {
            "text/plain": [
              "Status     True\n",
              "Home       True\n",
              "Marital    True\n",
              "Records    True\n",
              "Job        True\n",
              "dtype: bool"
            ]
          },
          "metadata": {
            "tags": []
          },
          "execution_count": 9
        }
      ]
    },
    {
      "cell_type": "code",
      "metadata": {
        "id": "pL0YgjPI65Lg"
      },
      "source": [
        "encoder =  LabelEncoder()\r\n",
        "data['Status'] = encoder.fit_transform(data['Status'].astype('str'))\r\n",
        "data['Home'] = encoder.fit_transform(data['Home'].astype('str'))\r\n",
        "data['Marital'] = encoder.fit_transform(data['Marital'].astype('str'))\r\n",
        "data['Job'] = encoder.fit_transform(data['Job'].astype('str'))\r\n",
        "data['Records'] = encoder.fit_transform(data['Records'].astype('str'))"
      ],
      "execution_count": null,
      "outputs": []
    },
    {
      "cell_type": "code",
      "metadata": {
        "colab": {
          "base_uri": "https://localhost:8080/",
          "height": 204
        },
        "id": "FGJYzrWp-V8H",
        "outputId": "f710ec40-7059-4250-c489-25e21b8fc347"
      },
      "source": [
        "data.head()"
      ],
      "execution_count": null,
      "outputs": [
        {
          "output_type": "execute_result",
          "data": {
            "text/html": [
              "<div>\n",
              "<style scoped>\n",
              "    .dataframe tbody tr th:only-of-type {\n",
              "        vertical-align: middle;\n",
              "    }\n",
              "\n",
              "    .dataframe tbody tr th {\n",
              "        vertical-align: top;\n",
              "    }\n",
              "\n",
              "    .dataframe thead th {\n",
              "        text-align: right;\n",
              "    }\n",
              "</style>\n",
              "<table border=\"1\" class=\"dataframe\">\n",
              "  <thead>\n",
              "    <tr style=\"text-align: right;\">\n",
              "      <th></th>\n",
              "      <th>Status</th>\n",
              "      <th>Seniority</th>\n",
              "      <th>Home</th>\n",
              "      <th>Time</th>\n",
              "      <th>Age</th>\n",
              "      <th>Marital</th>\n",
              "      <th>Records</th>\n",
              "      <th>Job</th>\n",
              "      <th>Expenses</th>\n",
              "      <th>Income</th>\n",
              "      <th>Assets</th>\n",
              "      <th>Debt</th>\n",
              "      <th>Amount</th>\n",
              "      <th>Price</th>\n",
              "      <th>Finrat</th>\n",
              "      <th>Savings</th>\n",
              "    </tr>\n",
              "  </thead>\n",
              "  <tbody>\n",
              "    <tr>\n",
              "      <th>0</th>\n",
              "      <td>1</td>\n",
              "      <td>9</td>\n",
              "      <td>5</td>\n",
              "      <td>60</td>\n",
              "      <td>30</td>\n",
              "      <td>1</td>\n",
              "      <td>0</td>\n",
              "      <td>1</td>\n",
              "      <td>73</td>\n",
              "      <td>129</td>\n",
              "      <td>0</td>\n",
              "      <td>0</td>\n",
              "      <td>800</td>\n",
              "      <td>846</td>\n",
              "      <td>94.562648</td>\n",
              "      <td>4.200000</td>\n",
              "    </tr>\n",
              "    <tr>\n",
              "      <th>1</th>\n",
              "      <td>1</td>\n",
              "      <td>17</td>\n",
              "      <td>5</td>\n",
              "      <td>60</td>\n",
              "      <td>58</td>\n",
              "      <td>4</td>\n",
              "      <td>0</td>\n",
              "      <td>0</td>\n",
              "      <td>48</td>\n",
              "      <td>131</td>\n",
              "      <td>0</td>\n",
              "      <td>0</td>\n",
              "      <td>1000</td>\n",
              "      <td>1658</td>\n",
              "      <td>60.313631</td>\n",
              "      <td>4.980000</td>\n",
              "    </tr>\n",
              "    <tr>\n",
              "      <th>2</th>\n",
              "      <td>0</td>\n",
              "      <td>10</td>\n",
              "      <td>2</td>\n",
              "      <td>36</td>\n",
              "      <td>46</td>\n",
              "      <td>1</td>\n",
              "      <td>1</td>\n",
              "      <td>1</td>\n",
              "      <td>90</td>\n",
              "      <td>200</td>\n",
              "      <td>3000</td>\n",
              "      <td>0</td>\n",
              "      <td>2000</td>\n",
              "      <td>2985</td>\n",
              "      <td>67.001675</td>\n",
              "      <td>1.980000</td>\n",
              "    </tr>\n",
              "    <tr>\n",
              "      <th>3</th>\n",
              "      <td>1</td>\n",
              "      <td>0</td>\n",
              "      <td>5</td>\n",
              "      <td>60</td>\n",
              "      <td>24</td>\n",
              "      <td>3</td>\n",
              "      <td>0</td>\n",
              "      <td>0</td>\n",
              "      <td>63</td>\n",
              "      <td>182</td>\n",
              "      <td>2500</td>\n",
              "      <td>0</td>\n",
              "      <td>900</td>\n",
              "      <td>1325</td>\n",
              "      <td>67.924528</td>\n",
              "      <td>7.933333</td>\n",
              "    </tr>\n",
              "    <tr>\n",
              "      <th>4</th>\n",
              "      <td>1</td>\n",
              "      <td>0</td>\n",
              "      <td>5</td>\n",
              "      <td>36</td>\n",
              "      <td>26</td>\n",
              "      <td>3</td>\n",
              "      <td>0</td>\n",
              "      <td>0</td>\n",
              "      <td>46</td>\n",
              "      <td>107</td>\n",
              "      <td>0</td>\n",
              "      <td>0</td>\n",
              "      <td>310</td>\n",
              "      <td>910</td>\n",
              "      <td>34.065934</td>\n",
              "      <td>7.083871</td>\n",
              "    </tr>\n",
              "  </tbody>\n",
              "</table>\n",
              "</div>"
            ],
            "text/plain": [
              "   Status  Seniority  Home  Time  Age  ...  Debt  Amount  Price     Finrat   Savings\n",
              "0       1          9     5    60   30  ...     0     800    846  94.562648  4.200000\n",
              "1       1         17     5    60   58  ...     0    1000   1658  60.313631  4.980000\n",
              "2       0         10     2    36   46  ...     0    2000   2985  67.001675  1.980000\n",
              "3       1          0     5    60   24  ...     0     900   1325  67.924528  7.933333\n",
              "4       1          0     5    36   26  ...     0     310    910  34.065934  7.083871\n",
              "\n",
              "[5 rows x 16 columns]"
            ]
          },
          "metadata": {
            "tags": []
          },
          "execution_count": 11
        }
      ]
    },
    {
      "cell_type": "code",
      "metadata": {
        "colab": {
          "base_uri": "https://localhost:8080/"
        },
        "id": "gsvg0GlF65Lh",
        "outputId": "e21fed43-125f-4743-9ff1-61772de60b35"
      },
      "source": [
        "#Checking Data Types of the Features for Confirmation\r\n",
        "data.dtypes"
      ],
      "execution_count": null,
      "outputs": [
        {
          "output_type": "execute_result",
          "data": {
            "text/plain": [
              "Status         int64\n",
              "Seniority      int64\n",
              "Home           int64\n",
              "Time           int64\n",
              "Age            int64\n",
              "Marital        int64\n",
              "Records        int64\n",
              "Job            int64\n",
              "Expenses       int64\n",
              "Income         int64\n",
              "Assets         int64\n",
              "Debt           int64\n",
              "Amount         int64\n",
              "Price          int64\n",
              "Finrat       float64\n",
              "Savings      float64\n",
              "dtype: object"
            ]
          },
          "metadata": {
            "tags": []
          },
          "execution_count": 12
        }
      ]
    },
    {
      "cell_type": "code",
      "metadata": {
        "colab": {
          "base_uri": "https://localhost:8080/"
        },
        "id": "8is-ojJk65Lh",
        "outputId": "5797b894-23df-47de-efb9-37fc63e11338"
      },
      "source": [
        "# Value Counts of 'GOOD' Status and 'BAD' Status\r\n",
        "# 'GOOD': 1 and 'BAD': 0\r\n",
        "data.Status.value_counts()"
      ],
      "execution_count": null,
      "outputs": [
        {
          "output_type": "execute_result",
          "data": {
            "text/plain": [
              "1    3197\n",
              "0    1249\n",
              "Name: Status, dtype: int64"
            ]
          },
          "metadata": {
            "tags": []
          },
          "execution_count": 13
        }
      ]
    },
    {
      "cell_type": "code",
      "metadata": {
        "id": "aWgiIDhP65Li"
      },
      "source": [
        "X = data.iloc[:,1:].values\r\n",
        "y = data.iloc[:,0].values\r\n",
        "Y = pd.get_dummies(y).values"
      ],
      "execution_count": null,
      "outputs": []
    },
    {
      "cell_type": "code",
      "metadata": {
        "colab": {
          "base_uri": "https://localhost:8080/"
        },
        "id": "qQ-7V-Mq65Lj",
        "outputId": "fa1050b4-b754-4bd6-a4d7-c0b34576a1ee"
      },
      "source": [
        "y.size, X.size, Y.size, len(y), len(X), len(Y)"
      ],
      "execution_count": null,
      "outputs": [
        {
          "output_type": "execute_result",
          "data": {
            "text/plain": [
              "(4446, 66690, 8892, 4446, 4446, 4446)"
            ]
          },
          "metadata": {
            "tags": []
          },
          "execution_count": 15
        }
      ]
    },
    {
      "cell_type": "code",
      "metadata": {
        "id": "rwg969Ki65Lj"
      },
      "source": [
        "X_train, X_test, y_train, y_test = train_test_split(X, y, test_size=0.2, random_state=0, shuffle=True)"
      ],
      "execution_count": null,
      "outputs": []
    },
    {
      "cell_type": "code",
      "metadata": {
        "colab": {
          "base_uri": "https://localhost:8080/"
        },
        "id": "fBVq9ic665Lk",
        "outputId": "7e4fafb8-7b67-4024-85e1-fcf8fa5f6b8e"
      },
      "source": [
        "X_train.size, X_test.size, y_train.size, y_test.size, data.size "
      ],
      "execution_count": null,
      "outputs": [
        {
          "output_type": "execute_result",
          "data": {
            "text/plain": [
              "(53340, 13350, 3556, 890, 71136)"
            ]
          },
          "metadata": {
            "tags": []
          },
          "execution_count": 17
        }
      ]
    },
    {
      "cell_type": "code",
      "metadata": {
        "id": "4XriKmCpAKOe"
      },
      "source": [
        "sc = StandardScaler()\r\n",
        "X_train = sc.fit_transform(X_train)\r\n",
        "X_test = sc.fit_transform(X_test)"
      ],
      "execution_count": null,
      "outputs": []
    },
    {
      "cell_type": "code",
      "metadata": {
        "id": "uTFpLVWz0GPD"
      },
      "source": [
        "rf = RandomForestClassifier(n_estimators = 70) \r\n",
        "rf.fit(X_train, y_train) \r\n",
        "y_pred = rf.predict(X_test) "
      ],
      "execution_count": null,
      "outputs": []
    },
    {
      "cell_type": "code",
      "metadata": {
        "colab": {
          "base_uri": "https://localhost:8080/"
        },
        "id": "17fusZphA1fh",
        "outputId": "7081a1f3-0031-457b-8c58-188ec8a0e2d7"
      },
      "source": [
        "print(classification_report(y_test, y_pred))"
      ],
      "execution_count": null,
      "outputs": [
        {
          "output_type": "stream",
          "text": [
            "              precision    recall  f1-score   support\n",
            "\n",
            "           0       0.66      0.50      0.57       252\n",
            "           1       0.82      0.90      0.86       638\n",
            "\n",
            "    accuracy                           0.79       890\n",
            "   macro avg       0.74      0.70      0.71       890\n",
            "weighted avg       0.77      0.79      0.78       890\n",
            "\n"
          ],
          "name": "stdout"
        }
      ]
    },
    {
      "cell_type": "code",
      "metadata": {
        "colab": {
          "base_uri": "https://localhost:8080/"
        },
        "id": "W_dS2OjxBFml",
        "outputId": "178da0ce-1564-4b7e-9141-c858f123fbfd"
      },
      "source": [
        "confusion_matrix(y_test, y_pred)"
      ],
      "execution_count": null,
      "outputs": [
        {
          "output_type": "execute_result",
          "data": {
            "text/plain": [
              "array([[127, 125],\n",
              "       [ 66, 572]])"
            ]
          },
          "metadata": {
            "tags": []
          },
          "execution_count": 81
        }
      ]
    },
    {
      "cell_type": "code",
      "metadata": {
        "colab": {
          "base_uri": "https://localhost:8080/"
        },
        "id": "QSTPFgviBHW2",
        "outputId": "9292819e-8d8a-47f8-af8d-9dcc39bc3637"
      },
      "source": [
        "round(accuracy_score(y_test, y_pred), 2)"
      ],
      "execution_count": null,
      "outputs": [
        {
          "output_type": "execute_result",
          "data": {
            "text/plain": [
              "0.79"
            ]
          },
          "metadata": {
            "tags": []
          },
          "execution_count": 82
        }
      ]
    },
    {
      "cell_type": "code",
      "metadata": {
        "colab": {
          "base_uri": "https://localhost:8080/"
        },
        "id": "6uj7bd1OBI2-",
        "outputId": "45ac4ef7-b355-4bb9-d593-3115445a6dbf"
      },
      "source": [
        "round(average_precision_score(y_test, y_pred), 2)"
      ],
      "execution_count": null,
      "outputs": [
        {
          "output_type": "execute_result",
          "data": {
            "text/plain": [
              "0.81"
            ]
          },
          "metadata": {
            "tags": []
          },
          "execution_count": 83
        }
      ]
    },
    {
      "cell_type": "code",
      "metadata": {
        "id": "Yv-fo1S2Cd42"
      },
      "source": [
        ""
      ],
      "execution_count": null,
      "outputs": []
    }
  ]
}